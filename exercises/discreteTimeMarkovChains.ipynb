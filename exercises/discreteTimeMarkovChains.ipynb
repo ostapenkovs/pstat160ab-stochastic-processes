{
 "cells": [
  {
   "cell_type": "markdown",
   "metadata": {},
   "source": [
    "__Background:__ Markov chains could be used to model a plethora of phenomena that happen in our world. The only assumption that we would have to accept is the fact that what we are trying to model depends only on the last step, and not on all previous steps (the whole history). \n",
    "\n",
    "For example, Sahin and Sen (2001) model hourly wind speeds in a NW part of Turkey as a Markov chain ${(X_n)}_{n\\in \\mathbb{N}}$ with 7 states representing different wind speed levels. Since in Python arrays are indexed starting from $0$, let us consider the states to be $S=\\{0,1,2,3,4,5,6 \\}$, with $0$ representing the lowest wind speed level."
   ]
  },
  {
   "cell_type": "markdown",
   "metadata": {},
   "source": [
    "As usual, we start with loading some packages:"
   ]
  },
  {
   "cell_type": "code",
   "execution_count": 1,
   "metadata": {
    "collapsed": true
   },
   "outputs": [],
   "source": [
    "import numpy as np \n",
    "from numpy import linalg \n",
    "import scipy.linalg"
   ]
  },
  {
   "cell_type": "markdown",
   "metadata": {},
   "source": [
    "### Part a (2 Points)\n",
    "\n",
    "Implement the transition probability matrix $P$ from above as a two dimensional <tt>numpy.array()</tt>. Compute $P^{7}$ and list its rows. "
   ]
  },
  {
   "cell_type": "code",
   "execution_count": 2,
   "metadata": {
    "collapsed": true
   },
   "outputs": [],
   "source": [
    "P = np.array([[0.756,0.113,0.129,0.002,0,0,0],\\\n",
    "            [0.174,0.821,0.004,0.001,0,0,0],\\\n",
    "            [0.141,0.001,0.776,0.082,0,0,0],\\\n",
    "            [0.003,0,0.192,0.753,0.052,0,0],\\\n",
    "            [0,0,0.002,0.227,0.735,0.036,0],\\\n",
    "            [0,0,0,0.007,0.367,0.604,0.022],\\\n",
    "            [0,0,0,0,0.053,0.158,0.789]])"
   ]
  },
  {
   "cell_type": "code",
   "execution_count": 3,
   "metadata": {},
   "outputs": [],
   "source": [
    "P7 = linalg.matrix_power(P,7)"
   ]
  },
  {
   "cell_type": "code",
   "execution_count": 4,
   "metadata": {},
   "outputs": [
    {
     "name": "stdout",
     "output_type": "stream",
     "text": [
      "[[3.88182154e-01 2.51905218e-01 2.78526403e-01 7.35440384e-02\n",
      "  7.52157116e-03 3.14415541e-04 6.20064088e-06]\n",
      " [3.90899834e-01 4.01123054e-01 1.73362747e-01 3.21628973e-02\n",
      "  2.37176779e-03 7.83745082e-05 1.32548575e-06]\n",
      " [3.00702106e-01 1.17049352e-01 3.90973627e-01 1.63754184e-01\n",
      "  2.59246983e-02 1.54837844e-03 4.76542058e-05]\n",
      " [1.81054947e-01 4.53387029e-02 3.81778491e-01 2.98851434e-01\n",
      "  8.48801487e-02 7.68398104e-03 4.12295300e-04]\n",
      " [8.19244208e-02 1.33620772e-02 2.68559006e-01 3.72565981e-01\n",
      "  2.27965343e-01 3.22631333e-02 3.36003854e-03]\n",
      " [3.69181923e-02 4.14369253e-03 1.71543120e-01 3.53122996e-01\n",
      "  3.35345550e-01 7.67724309e-02 2.21540186e-02]\n",
      " [1.11758879e-02 9.64858223e-04 6.91427100e-02 2.08955182e-01\n",
      "  3.35675738e-01 1.67200772e-01 2.06884851e-01]]\n"
     ]
    }
   ],
   "source": [
    "print(P7)"
   ]
  },
  {
   "cell_type": "markdown",
   "metadata": {},
   "source": [
    "### Part b (4 points)\n",
    "Assume that the wind speed in State $i$ is $10 \\cdot i$ Miles/hr. So there is no wind in state 0 and 60 M/hr wind in state 6. Given that there is no wind today, find the **expected wind speed** in 1 week's time. "
   ]
  },
  {
   "cell_type": "code",
   "execution_count": 5,
   "metadata": {
    "collapsed": true
   },
   "outputs": [],
   "source": [
    "state_space = [0,1,2,3,4,5,6]\n",
    "speed_space = [10*i for i in state_space]"
   ]
  },
  {
   "cell_type": "code",
   "execution_count": 6,
   "metadata": {},
   "outputs": [
    {
     "name": "stdout",
     "output_type": "stream",
     "text": [
      "[3.88182154e-01 2.51905218e-01 2.78526403e-01 7.35440384e-02\n",
      " 7.52157116e-03 3.14415541e-04 6.20064088e-06]\n"
     ]
    }
   ],
   "source": [
    "# P(X7 = k | X0 = 0) = ?\n",
    "# = P7 row 0, column k\n",
    "print(P7[0])"
   ]
  },
  {
   "cell_type": "code",
   "execution_count": 7,
   "metadata": {},
   "outputs": [],
   "source": [
    "# P(X7 = k) = P7[0][k] for k element in speed_space"
   ]
  },
  {
   "cell_type": "code",
   "execution_count": 8,
   "metadata": {},
   "outputs": [],
   "source": [
    "def expected_value(x, px):\n",
    "    return float(np.matmul(np.array([x]), np.array([px]).T))"
   ]
  },
  {
   "cell_type": "code",
   "execution_count": 9,
   "metadata": {},
   "outputs": [
    {
     "data": {
      "text/plain": [
       "10.612857045656652"
      ]
     },
     "execution_count": 9,
     "metadata": {},
     "output_type": "execute_result"
    }
   ],
   "source": [
    "expected_value(speed_space, P7[0])"
   ]
  },
  {
   "cell_type": "markdown",
   "metadata": {},
   "source": [
    "### Part c (4 Points)\n",
    "\n",
    "We fix $X_0 = 0$ (no wind today) and wish to compute $H_n := \\mathbb{P}(X_n = 6 | X_0 = 0)$ which is the probability that there will be strong wind $n$ days from now. Using a <tt>for</tt> loop, evaluate $H_n$ for $n=1,2,\\ldots,100$, i.e for 1,2, and up to 100 days into the future.\n",
    "\n",
    "Create a plot showing $H_n$ as a function of $n$. Summarize what you observe."
   ]
  },
  {
   "cell_type": "code",
   "execution_count": 10,
   "metadata": {
    "collapsed": true
   },
   "outputs": [],
   "source": [
    "# Hn := P(Xn = 6 | X0 = 0)\n",
    "all_hn = []\n",
    "for i in range(1,101):\n",
    "    P_power = linalg.matrix_power(P,i)\n",
    "    Hn = P_power[0][6]\n",
    "    all_hn.append(Hn)"
   ]
  },
  {
   "cell_type": "code",
   "execution_count": 11,
   "metadata": {},
   "outputs": [],
   "source": [
    "import matplotlib.pyplot as plt"
   ]
  },
  {
   "cell_type": "code",
   "execution_count": 12,
   "metadata": {},
   "outputs": [
    {
     "data": {
      "text/plain": [
       "Text(0.5, 0.98, 'Probability of Strong Wind n Days from Now')"
      ]
     },
     "execution_count": 12,
     "metadata": {},
     "output_type": "execute_result"
    },
    {
     "data": {
      "image/png": "[encoded data removed]",
      "text/plain": [
       "<Figure size 1200x400 with 1 Axes>"
      ]
     },
     "metadata": {},
     "output_type": "display_data"
    }
   ],
   "source": [
    "fig, ax = plt.subplots(1, figsize=(12,4))\n",
    "\n",
    "plt.plot(all_hn)\n",
    "\n",
    "ax.set_xlabel(\"n Days in the Future\")\n",
    "ax.set_ylabel(\"Probability of Strong Wind\")\n",
    "fig.suptitle(\"Probability of Strong Wind n Days from Now\")"
   ]
  },
  {
   "cell_type": "code",
   "execution_count": 13,
   "metadata": {},
   "outputs": [],
   "source": [
    "# Strong wind is impossible in the short term given today there is no wind. \n",
    "# Strong wind becomes more likely at around 20 days into the future. \n",
    "# After the inflection point, it seems like the asymptotic limit of Hn is around .0003. \n",
    "# Thus it seems like strong wind is very unlikely given a still day today."
   ]
  }
 ],
 "metadata": {
  "anaconda-cloud": {},
  "interpreter": {
   "hash": "8c4980ad1e4e2e1eab98d250946796aabc7dcece257407c21f60325e2df48c79"
  },
  "kernelspec": {
   "display_name": "Python 3.8.8  ('.venv': venv)",
   "language": "python",
   "name": "python3"
  },
  "language_info": {
   "codemirror_mode": {
    "name": "ipython",
    "version": 3
   },
   "file_extension": ".py",
   "mimetype": "text/x-python",
   "name": "python",
   "nbconvert_exporter": "python",
   "pygments_lexer": "ipython3",
   "version": "3.10.11"
  },
  "metadata": {
   "interpreter": {
    "hash": "2d816f088fce4020deb8c92e1e4beecd1a3d0876d26735c116f575090124f6dd"
   }
  }
 },
 "nbformat": 4,
 "nbformat_minor": 2
}
