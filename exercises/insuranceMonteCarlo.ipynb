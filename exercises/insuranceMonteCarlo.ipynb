{
 "cells": [
  {
   "cell_type": "markdown",
   "metadata": {},
   "source": [
    "## Problem 1 (10 pts total)\n",
    "__Background__:\n",
    "A stochastic model for a car insurance company's total cost of damages from traffic accidents goes back to the work by Van der Lann and Louter, \"A statistical model for the costs of passenger car traffic accidents\", Journal of the Royal Statistical Society (1986).\n",
    "\n",
    "For every $k=1,2,3\\ldots$ we denote by the random variable $X_k$ the US dollar amount of a damage from a policy holder's traffic accident which will occur during the year 2020.\n",
    "\n",
    "We assume that $X_1$, $X_2$,... is an i.i.d. sequence of exponential distributed random variables with an average claim size of \\$1,500 USD.  \n",
    "\n",
    "The (random) total number of accidents $N$ in 2020 is expected to be Poisson distributed with 25 claims on average.\n",
    "\n",
    "It is assumed that the number of accidents is independent of the US dollar amount of damages for each accident. That is, the random variable $N$ is independent of the random variables $X_1$, $X_2$,...\n",
    "\n",
    "The total costs for the insurance company by the end of 2020 will thus be given by the __random sum__ $S_N$ defined as\n",
    "\n",
    "$$S_N = X_1 + X_2 + \\dots + X_N = \\sum_{k = 1}^{N} X_k.$$\n",
    "\n",
    "Note again that the total number $N$ of accidents is random"
   ]
  },
  {
   "cell_type": "markdown",
   "metadata": {},
   "source": [
    "The goal of the current exercise is to approximate the expected total costs $$\\mathbb{E}[S_N]$$ for the insurance company in 2020 via simulations."
   ]
  },
  {
   "cell_type": "markdown",
   "metadata": {},
   "source": [
    "As usual, we start with loading some packages:"
   ]
  },
  {
   "cell_type": "code",
   "execution_count": 14,
   "metadata": {},
   "outputs": [],
   "source": [
    "import numpy as np\n",
    "np.random.seed(160)"
   ]
  },
  {
   "cell_type": "markdown",
   "metadata": {},
   "source": [
    "### Step 1: (5 Points)\n",
    "\n",
    "Write a function called <tt>randomSum(...)</tt> which simulates the random variable $S_N$. \n",
    "\n",
    "Input:\n",
    "* <tt>averageClaimSize</tt>: Average USD amount per claim\n",
    "* <tt>averageNumberOfClaims</tt>: Average number of claims/accidents in 2020\n",
    "\n",
    "Output:\n",
    "* <tt>sampleRandomSum</tt>: A single scalar being one sample from the random variable $S_N$\n",
    "\n",
    "<i>Hint:</i> Use build-in functions from the <i>NumPy</i>-package in your code in order to sample from a Poisson distribution and from an exponential distribution!"
   ]
  },
  {
   "cell_type": "code",
   "execution_count": 15,
   "metadata": {},
   "outputs": [],
   "source": [
    "def randomSum(averageClaimSize, averageNumberOfClaims): \n",
    "    numAccidents = np.random.poisson(averageNumberOfClaims) #using lambda=averageNumberOfClaims\n",
    "    damageAmts = np.random.exponential(averageClaimSize,[numAccidents]) #using beta=1/averageClaimSize\n",
    "    # list of exponential random damage for each accident after determining number of accidents\n",
    "    sampleRandomSum = sum(damageAmts)   \n",
    "    return sampleRandomSum  "
   ]
  },
  {
   "cell_type": "code",
   "execution_count": 16,
   "metadata": {},
   "outputs": [
    {
     "data": {
      "text/plain": [
       "51800.65187216196"
      ]
     },
     "execution_count": 16,
     "metadata": {},
     "output_type": "execute_result"
    }
   ],
   "source": [
    "randomSum(1500,25)"
   ]
  },
  {
   "cell_type": "markdown",
   "metadata": {},
   "source": [
    "### Step 2: (3 Points)\n",
    "\n",
    "Write a simulator function called <tt>simulator()</tt> which uses the function <tt>randomSum()</tt> from Step 1 to simulate $M \\in \\mathbb{N}$ samples from the random variable $S_N$. \n",
    "\n",
    "Input: \n",
    "* <tt>averageClaimSize</tt>: Average USD amount per claim\n",
    "* <tt>averageNumberOfClaims</tt>: Average number of claims/accidents in 2020\n",
    "* <tt>M</tt>: Number of Simulations\n",
    "\n",
    "Output:\n",
    "* <tt>samples</tt>: An array of length $M$ with samples from the random variable $S_N$."
   ]
  },
  {
   "cell_type": "code",
   "execution_count": 17,
   "metadata": {},
   "outputs": [],
   "source": [
    "def simulator(averageClaimSize, averageNumberOfClaims, M):\n",
    "    samples = []\n",
    "    for i in range(M):\n",
    "        samples.append(randomSum(averageClaimSize,averageNumberOfClaims))\n",
    "        # generate sample total and add to list of sample totals\n",
    "    return samples"
   ]
  },
  {
   "cell_type": "code",
   "execution_count": 18,
   "metadata": {},
   "outputs": [
    {
     "data": {
      "text/plain": [
       "[35335.45496725818,\n",
       " 38957.484133976985,\n",
       " 34492.62061112495,\n",
       " 32813.55434119022,\n",
       " 41550.952341040516,\n",
       " 35856.66879078419,\n",
       " 51089.89925352086,\n",
       " 25844.872788188055,\n",
       " 25127.782019064896,\n",
       " 33913.88750315229]"
      ]
     },
     "execution_count": 18,
     "metadata": {},
     "output_type": "execute_result"
    }
   ],
   "source": [
    "simulator(1500,25,10)"
   ]
  },
  {
   "cell_type": "markdown",
   "metadata": {},
   "source": [
    "### Step 3: (2 Points)\n",
    "\n",
    "As we have shown in class, it holds via __Wald's Identity__ that the expectation of the random sum $S_N$ is given by the formula\n",
    "\n",
    "\\begin{equation}\n",
    "\\mathbb{E}[S_N] = \\mathbb{E}[N] \\cdot \\mathbb{E}[X_1] = 25 \\cdot \\$1,500 = \\$37,500.\n",
    "\\end{equation}\n",
    "\n",
    "Check via the empirical mean that\n",
    "\n",
    "$$\\frac{1}{M} \\sum_{m=1}^M s^{(m)}_N \\approx \\mathbb{E}[S_N] = \\$37,500$$\n",
    "\n",
    "where $s^{(1)}_N, s^{(2)}_N, \\ldots, s^{(M)}_N$ denote $M$ independent realizations (samples) from the random variable $S_N$. \n",
    "\n",
    "Use $M = 10, 100, 1000, 10000, 50000$ simulations.  "
   ]
  },
  {
   "cell_type": "markdown",
   "metadata": {},
   "source": [
    "That is, write a function <tt>MCsimulation(...)</tt> which uses the function <tt>simulator(...)</tt> from Step 2 to compute the empirical mean. \n",
    "\n",
    "\n",
    "Input: \n",
    "* <tt>averageClaimSize</tt>: Average USD amount per claim\n",
    "* <tt>averageNumberOfClaims</tt>: Average number of claims/accidents in 2020\n",
    "* <tt>M</tt>: Number of Simulations\n",
    "\n",
    "Output:\n",
    "* <tt>empricialMean</tt>: A real number in $\\mathbb{R}_+$."
   ]
  },
  {
   "cell_type": "code",
   "execution_count": 19,
   "metadata": {},
   "outputs": [],
   "source": [
    "def MCsimulation(averageClaimSize, averageNumberOfClaims, M): # 2 points\n",
    "    empiricalMean = np.mean(simulator(averageClaimSize,averageNumberOfClaims,M))\n",
    "    # get mean of list of sample totals of size m \n",
    "    return empiricalMean"
   ]
  },
  {
   "cell_type": "code",
   "execution_count": 20,
   "metadata": {},
   "outputs": [
    {
     "data": {
      "text/plain": [
       "39902.8171516374"
      ]
     },
     "execution_count": 20,
     "metadata": {},
     "output_type": "execute_result"
    }
   ],
   "source": [
    "MCsimulation(1500, 25, 1)"
   ]
  },
  {
   "cell_type": "code",
   "execution_count": 21,
   "metadata": {},
   "outputs": [
    {
     "name": "stdout",
     "output_type": "stream",
     "text": [
      "6262.967332600856\n",
      "2223.712912084098\n",
      "441.7574846364805\n",
      "153.01054811754148\n",
      "54.519446902995696\n"
     ]
    }
   ],
   "source": [
    "## Compute the absolute error\n",
    "print(np.absolute(MCsimulation(1500, 25, 10)-37500))\n",
    "print(np.absolute(MCsimulation(1500, 25, 100)-37500))\n",
    "print(np.absolute(MCsimulation(1500, 25, 1000)-37500))\n",
    "print(np.absolute(MCsimulation(1500, 25, 10000)-37500))\n",
    "print(np.absolute(MCsimulation(1500, 25, 50000)-37500))"
   ]
  },
  {
   "cell_type": "markdown",
   "metadata": {},
   "source": [
    "## Problem 2 (5 Points)\n",
    "\n",
    "A health insurance will pay for a medical expense subject to a USD 100 deductible. Assume that the amount of the expense is __Gamma__ distributed with scale parameter 100 and shape parameter 2 (the mean is 100*2 dollars). This can be simulated using np.random.gamma(shape, scale, n)\n",
    "\n",
    "Compute the empirical _mean_ and empirical _standard deviation_ of the payout by the insurance company by using 100,000 samples."
   ]
  },
  {
   "cell_type": "code",
   "execution_count": 22,
   "metadata": {},
   "outputs": [
    {
     "name": "stdout",
     "output_type": "stream",
     "text": [
      "110.78735164852435 ,  132.04560485404\n"
     ]
    }
   ],
   "source": [
    "# expense E ~ Gamma(2,100), mean = 2*100 = 200 dollars\n",
    "# 100 deductible\n",
    "# payout P = 0 if E =< 100, E-100 if E > 100\n",
    "def payout(expense, deductible):\n",
    "    # definition of insurance payout & deductible\n",
    "    if(expense > deductible):\n",
    "        return expense - deductible\n",
    "    return 0\n",
    "\n",
    "DEDUCTIBLE = 100 #set constant deductible to 100\n",
    "\n",
    "# generate list of sample payouts by applying payout function to each randomly generated expense\n",
    "sample_payouts = [payout(expense,DEDUCTIBLE) for expense in np.random.gamma(2,100,[100000])] # using 100k samples\n",
    "\n",
    "mean = np.mean(sample_payouts) # empirical mean of payouts\n",
    "std = np.std(sample_payouts) # empirical st. dev. of payouts\n",
    "\n",
    "print(mean, \", \", std)"
   ]
  },
  {
   "cell_type": "markdown",
   "metadata": {},
   "source": [
    "## Problem 3 (5 Points)\n",
    "\n",
    "Since the beginning of Spring quarter Mike goes every day to Woodstock Pizza, orders a slice of pizza, and picks a topping - pepper, pepperoni, pineapple, or prosciutto - unifromly at random. "
   ]
  },
  {
   "cell_type": "markdown",
   "metadata": {},
   "source": [
    "1. Implement a simulator which uniformly samples from one topping:"
   ]
  },
  {
   "cell_type": "code",
   "execution_count": 23,
   "metadata": {},
   "outputs": [
    {
     "data": {
      "text/plain": [
       "'pepperoni'"
      ]
     },
     "execution_count": 23,
     "metadata": {},
     "output_type": "execute_result"
    }
   ],
   "source": [
    "toppings = ['pepper','pepperoni','pineapple','prosciutto']\n",
    "\n",
    "# one random uniform sample from topping_list\n",
    "def topping_choice_simulator(topping_list):\n",
    "    return np.random.choice(topping_list)\n",
    "\n",
    "topping_choice_simulator(toppings)"
   ]
  },
  {
   "cell_type": "markdown",
   "metadata": {},
   "source": [
    "2. On the day that Mike first picks pineapple, find the empricial _mean_ and empirical _standard deviation_ of the number of prior days in which he picked pepperoni by running 100,000 simulations. [As you might realize, this is very similar to the question about rolling 5's before the first '6' appears that we did in class -- now we solve it/verify the answer by simulation]\n",
    "\n"
   ]
  },
  {
   "cell_type": "code",
   "execution_count": 24,
   "metadata": {},
   "outputs": [],
   "source": [
    "# generate random uniform topping choices until first appearance of pineapple\n",
    "# count num days of pepperoni preceding first appearance of pineapple\n",
    "def pepperoni_until_pineapple():\n",
    "    choice, days = '', 0\n",
    "    while choice != 'pineapple':\n",
    "        choice = np.random.choice(toppings)\n",
    "        if choice == 'pepperoni':\n",
    "            days += 1\n",
    "    return days"
   ]
  },
  {
   "cell_type": "code",
   "execution_count": 12,
   "metadata": {
    "tags": []
   },
   "outputs": [],
   "source": [
    "sample = [pepperoni_until_pineapple() for i in range(100000)]"
   ]
  },
  {
   "cell_type": "code",
   "execution_count": 13,
   "metadata": {},
   "outputs": [
    {
     "name": "stdout",
     "output_type": "stream",
     "text": [
      "1.00011 ,  1.4139412957757476\n"
     ]
    }
   ],
   "source": [
    "mean = np.mean(sample)\n",
    "std = np.std(sample)\n",
    "\n",
    "print(mean, \", \", std)"
   ]
  }
 ],
 "metadata": {
  "kernelspec": {
   "display_name": "Python 3.8.8 64-bit ('.venv': venv)",
   "metadata": {
    "interpreter": {
     "hash": "2d816f088fce4020deb8c92e1e4beecd1a3d0876d26735c116f575090124f6dd"
    }
   },
   "name": "python3"
  },
  "language_info": {
   "codemirror_mode": {
    "name": "ipython",
    "version": 3
   },
   "file_extension": ".py",
   "mimetype": "text/x-python",
   "name": "python",
   "nbconvert_exporter": "python",
   "pygments_lexer": "ipython3",
   "version": "3.10.11"
  }
 },
 "nbformat": 4,
 "nbformat_minor": 2
}
