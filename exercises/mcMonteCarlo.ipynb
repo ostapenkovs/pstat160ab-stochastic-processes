{
 "cells": [
  {
   "cell_type": "markdown",
   "metadata": {},
   "source": [
    "# Problem 1 (10 pt)\n",
    "\n",
    "Consider the rat maze problem from Assignment #7 discussed in sections of week 9.\n",
    "\n",
    "Simulate $N=10^5$ realizations of the respective Markov Chain where the rat begins in room $1$ and wonders around the maze until finding the way out from room 4. Each Markov chain trajectory should be simulated until the rate escapes (so you do not actually have to run it for many steps). \n",
    "\n",
    "Let us suppose that the rooms contain snacks and the rat gets $k$ snacks each time when in room $k$. So for example every time (including at the very beginning) that the rat is in room 1, it gets 1 snack. We want to compute the total number of snacks it will get on average before getting out of the maze.\n",
    "\n",
    "Use Monte Carlo to estimate the mean and variance of the total snacks the rat will get based on the above $10^5$ simulated trajectories.\n",
    "\n",
    "__Note:__ an exact answer to this question is also possible using first-step analysis in case you really wanted to double-check yourself.\n"
   ]
  },
  {
   "cell_type": "markdown",
   "metadata": {},
   "source": [
    "As usual, we start with loading some packages:"
   ]
  },
  {
   "cell_type": "code",
   "execution_count": 1,
   "metadata": {},
   "outputs": [],
   "source": [
    "import numpy as np \n",
    "from numpy import linalg"
   ]
  },
  {
   "cell_type": "code",
   "execution_count": 2,
   "metadata": {},
   "outputs": [],
   "source": [
    "# S = {out, 1, 2, 3, 4}\n",
    "P = [[1, 0, 0, 0, 0],\\\n",
    "     [0, 0, .5, .5, 0],\\\n",
    "     [0, .5, 0, 0, .5],\\\n",
    "     [0, .5, 0, 0, .5],\\\n",
    "     [1/3, 0, 1/3, 1/3, 0]]"
   ]
  },
  {
   "cell_type": "code",
   "execution_count": 3,
   "metadata": {},
   "outputs": [
    {
     "data": {
      "text/plain": [
       "[[1, 0, 0, 0, 0],\n",
       " [0, 0, 0.5, 0.5, 0],\n",
       " [0, 0.5, 0, 0, 0.5],\n",
       " [0, 0.5, 0, 0, 0.5],\n",
       " [0.3333333333333333, 0, 0.3333333333333333, 0.3333333333333333, 0]]"
      ]
     },
     "execution_count": 3,
     "metadata": {},
     "output_type": "execute_result"
    }
   ],
   "source": [
    "P"
   ]
  },
  {
   "cell_type": "code",
   "execution_count": 4,
   "metadata": {},
   "outputs": [],
   "source": [
    "def totalSnacksUntilOut(initState):\n",
    "    snack_total = 0\n",
    "    out = False\n",
    "    current = initState\n",
    "    while not out:\n",
    "        snack_total += current\n",
    "        Xn = np.random.choice(range(5), 1, p=P[current])\n",
    "        if Xn[0] == 0:\n",
    "            out = True\n",
    "        else:\n",
    "            current = Xn[0]\n",
    "    return snack_total"
   ]
  },
  {
   "cell_type": "code",
   "execution_count": 5,
   "metadata": {},
   "outputs": [],
   "source": [
    "def simTrajectory(initState, N):\n",
    "    return np.array([totalSnacksUntilOut(initState) for i in range(N)])"
   ]
  },
  {
   "cell_type": "code",
   "execution_count": 6,
   "metadata": {},
   "outputs": [],
   "source": [
    "totalSnacksSim = simTrajectory(1, 10**5)"
   ]
  },
  {
   "cell_type": "markdown",
   "metadata": {},
   "source": [
    "Finally estimate the mean and variance of totalSnack"
   ]
  },
  {
   "cell_type": "code",
   "execution_count": 7,
   "metadata": {},
   "outputs": [
    {
     "name": "stdout",
     "output_type": "stream",
     "text": [
      "Mean snacks:  31.12809\n",
      "Snacks variance:  679.1457229519001\n"
     ]
    }
   ],
   "source": [
    "print(\"Mean snacks: \", np.mean(totalSnacksSim))\n",
    "print(\"Snacks variance: \", np.var(totalSnacksSim))"
   ]
  },
  {
   "cell_type": "markdown",
   "metadata": {},
   "source": [
    "# Problem 2 (10 pt)\n",
    "\n",
    "You start with five dice. Roll all the dice and put aside those dice that come up 6. Then, roll the remaining dice, putting aside those dice that come up 6. And so on, until no dice are left.\n",
    "\n",
    "Using $10^5$ experiments, estimate the probability that it will take *more than 10 rounds* to end this game.\n",
    "\n",
    "__Hint:__ you can work directly with rolling the dice (via dieRoll = 1+ np.random.choice(a = range(6)) ) and tracking which ones remain, or you can setup a Markov Chain $(X_n)$ for the number of dice remaining and work with the respective transition matrix. If you do the latter, be sure to clearly type out $P$ as part of your solution. Note that Markov Chain approach gets a bit cumbersome if you increase the number of dice to roll.\n"
   ]
  },
  {
   "cell_type": "code",
   "execution_count": 8,
   "metadata": {},
   "outputs": [],
   "source": [
    "def roundsUntilDone(num_dice):\n",
    "    done = False\n",
    "    i = num_dice\n",
    "    rounds = 0\n",
    "    while not done:\n",
    "        all_die_rolls = np.random.choice(range(1,7,1), i)\n",
    "        num_sixes = np.count_nonzero(all_die_rolls == 6)\n",
    "\n",
    "        i -= num_sixes\n",
    "        rounds += 1\n",
    "\n",
    "        if(i == 0):\n",
    "            done = True\n",
    "    return(rounds)"
   ]
  },
  {
   "cell_type": "code",
   "execution_count": 9,
   "metadata": {},
   "outputs": [],
   "source": [
    "def simManyGames(num_dice, N):\n",
    "    return np.array([roundsUntilDone(num_dice) for i in range(N)])"
   ]
  },
  {
   "cell_type": "code",
   "execution_count": 10,
   "metadata": {},
   "outputs": [],
   "source": [
    "roundsUntilDoneSim = simManyGames(5, 10**5)"
   ]
  },
  {
   "cell_type": "code",
   "execution_count": 11,
   "metadata": {},
   "outputs": [],
   "source": [
    "num_longer_than_10_rounds = np.count_nonzero(roundsUntilDoneSim > 10)"
   ]
  },
  {
   "cell_type": "code",
   "execution_count": 12,
   "metadata": {},
   "outputs": [],
   "source": [
    "num_all = len(roundsUntilDoneSim)"
   ]
  },
  {
   "cell_type": "code",
   "execution_count": 13,
   "metadata": {},
   "outputs": [],
   "source": [
    "P_longer_than_10_rounds = num_longer_than_10_rounds / num_all"
   ]
  },
  {
   "cell_type": "code",
   "execution_count": 14,
   "metadata": {},
   "outputs": [
    {
     "data": {
      "text/plain": [
       "0.58358"
      ]
     },
     "execution_count": 14,
     "metadata": {},
     "output_type": "execute_result"
    }
   ],
   "source": [
    "P_longer_than_10_rounds"
   ]
  }
 ],
 "metadata": {
  "anaconda-cloud": {},
  "kernelspec": {
   "display_name": "Python 3.8.8 64-bit ('.venv': venv)",
   "language": "python",
   "name": "python388jvsc74a57bd02d816f088fce4020deb8c92e1e4beecd1a3d0876d26735c116f575090124f6dd"
  },
  "language_info": {
   "codemirror_mode": {
    "name": "ipython",
    "version": 3
   },
   "file_extension": ".py",
   "mimetype": "text/x-python",
   "name": "python",
   "nbconvert_exporter": "python",
   "pygments_lexer": "ipython3",
   "version": "3.8.8"
  }
 },
 "nbformat": 4,
 "nbformat_minor": 2
}
