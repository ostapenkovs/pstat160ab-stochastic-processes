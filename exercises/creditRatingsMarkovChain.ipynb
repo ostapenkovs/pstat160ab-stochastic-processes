{
 "cells": [
  {
   "cell_type": "markdown",
   "metadata": {},
   "source": [
    "## A Markov Chain for Credit Ratings\n",
    "\n",
    "In mathematical finance, Markov chains are used to model the default risk of a company or country (more specifically, the default of a company's or country's liability like a corporate or government bond - see e.g. PSTAT 171 and PSTAT 170). \n",
    "\n",
    "Rating agencies (like <i>Standard & Poor’s</i>, <i>Moody’s</i>, <i>Fitch</i>) rate the financial stability of a company and classify them according to different classes. A possible classification may range from 'AAA' for debitors with a very good credit rating to 'CCC' for debitors which are very likely to delay in paying a debt; and 'D' for those debitors which can't satisfy their financial liabilities anymore (in other words, they are default). \n",
    "\n",
    "The yearly credit rating of a company can be modeled as a Markov chain $(X_n)_{n=0,1,2,\\ldots}$ with state space\n",
    "\n",
    "$$ \\mathcal{S} = \\{ AAA,\\, AA,\\, A,\\, BBB,\\, BB,\\, B,\\, CCC,\\, D \\} $$\n",
    "\n",
    "where $X_n$ represents the credit rating class of a company in the $n$-th year."
   ]
  },
  {
   "cell_type": "code",
   "execution_count": 1,
   "metadata": {},
   "outputs": [],
   "source": [
    "import scipy.linalg\n",
    "import numpy as np"
   ]
  },
  {
   "cell_type": "code",
   "execution_count": 2,
   "metadata": {
    "scrolled": true
   },
   "outputs": [
    {
     "data": {
      "text/plain": [
       "array([[9.207e-01, 7.090e-02, 6.300e-03, 1.500e-03, 6.000e-04, 0.000e+00,\n",
       "        0.000e+00, 0.000e+00],\n",
       "       [6.200e-03, 9.084e-01, 7.760e-02, 5.900e-03, 6.000e-04, 1.000e-03,\n",
       "        2.000e-04, 1.000e-04],\n",
       "       [5.000e-04, 2.090e-02, 9.138e-01, 5.790e-02, 4.400e-03, 1.600e-03,\n",
       "        4.000e-04, 5.000e-04],\n",
       "       [3.000e-04, 2.100e-03, 4.100e-02, 8.937e-01, 4.820e-02, 8.600e-03,\n",
       "        2.400e-03, 3.700e-03],\n",
       "       [3.000e-04, 8.000e-04, 4.000e-03, 5.540e-02, 8.324e-01, 8.150e-02,\n",
       "        1.110e-02, 1.450e-02],\n",
       "       [0.000e+00, 8.000e-04, 2.700e-03, 3.400e-03, 5.390e-02, 8.241e-01,\n",
       "        4.920e-02, 6.590e-02],\n",
       "       [1.000e-03, 0.000e+00, 2.900e-03, 5.800e-03, 1.550e-02, 1.054e-01,\n",
       "        5.280e-01, 3.414e-01],\n",
       "       [0.000e+00, 0.000e+00, 0.000e+00, 0.000e+00, 0.000e+00, 0.000e+00,\n",
       "        0.000e+00, 1.000e+00]])"
      ]
     },
     "execution_count": 2,
     "metadata": {},
     "output_type": "execute_result"
    }
   ],
   "source": [
    "P = np.array([[92.07, 7.09, 0.63, 0.15, 0.06, 0.00, 0.00, 0.00],\\\n",
    "            [0.62, 90.84, 7.76, 0.59, 0.06, 0.10, 0.02, 0.01],\\\n",
    "            [0.05, 2.09, 91.38, 5.79, 0.44, 0.16, 0.04, 0.05],\\\n",
    "            [0.03, 0.21, 4.10, 89.37, 4.82, 0.86, 0.24, 0.37],\\\n",
    "            [0.03, 0.08, 0.40, 5.54, 83.24, 8.15, 1.11, 1.45],\\\n",
    "            [0.00, 0.08, 0.27, 0.34, 5.39, 82.41, 4.92, 6.59],\\\n",
    "            [0.10, 0.00, 0.29, 0.58, 1.55, 10.54, 52.80, 34.14],\\\n",
    "            [0.00, 0.00, 0.00, 0.00, 0.00, 0.00, 0.00, 100.0]])\n",
    "\n",
    "P /= 100\n",
    "\n",
    "P"
   ]
  },
  {
   "cell_type": "markdown",
   "metadata": {},
   "source": [
    "As warm-up let us <u>compute the probability</u> that a company which is rated with 'AAA' today will <u>not</u> default during the next 8 years."
   ]
  },
  {
   "cell_type": "code",
   "execution_count": 3,
   "metadata": {},
   "outputs": [
    {
     "data": {
      "text/plain": [
       "0.9982299711480223"
      ]
     },
     "execution_count": 3,
     "metadata": {},
     "output_type": "execute_result"
    }
   ],
   "source": [
    "1 - np.linalg.matrix_power(P, 8)[0, 7]"
   ]
  },
  {
   "cell_type": "markdown",
   "metadata": {},
   "source": [
    "So there is only 0.2% chance of a default. But for a company that is BBB rated default is much likelier:"
   ]
  },
  {
   "cell_type": "code",
   "execution_count": 4,
   "metadata": {},
   "outputs": [
    {
     "data": {
      "text/plain": [
       "0.06957603261513783"
      ]
     },
     "execution_count": 4,
     "metadata": {},
     "output_type": "execute_result"
    }
   ],
   "source": [
    "np.linalg.matrix_power(P, 8)[3, 7]"
   ]
  },
  {
   "cell_type": "markdown",
   "metadata": {},
   "source": [
    "## Finding the long-term weather distribution \n",
    "\n",
    "Recall the weather Markov chain representing Rainy, Sunny and Cloudy days:"
   ]
  },
  {
   "cell_type": "code",
   "execution_count": 5,
   "metadata": {},
   "outputs": [
    {
     "data": {
      "text/plain": [
       "array([[0.2, 0.6, 0.2],\n",
       "       [0.1, 0.8, 0.1],\n",
       "       [0.1, 0.6, 0.3]])"
      ]
     },
     "execution_count": 5,
     "metadata": {},
     "output_type": "execute_result"
    }
   ],
   "source": [
    "weatherP = np.array([[0.2,0.6,0.2],\\\n",
    "                    [0.1,0.8,0.1],\\\n",
    "                    [0.1,0.6,0.3]])\n",
    "\n",
    "weatherP"
   ]
  },
  {
   "cell_type": "markdown",
   "metadata": {},
   "source": [
    "We can see the convergence if we say look at $P^5, P^{10}, P^{20}$:"
   ]
  },
  {
   "cell_type": "code",
   "execution_count": 6,
   "metadata": {},
   "outputs": [
    {
     "name": "stdout",
     "output_type": "stream",
     "text": [
      "[[0.11112 0.74976 0.13912]\n",
      " [0.11111 0.75008 0.13881]\n",
      " [0.11111 0.74976 0.13913]]\n",
      "\n",
      "[[0.11111111 0.74999992 0.13888897]\n",
      " [0.11111111 0.75000003 0.13888886]\n",
      " [0.11111111 0.74999992 0.13888897]]\n",
      "\n",
      "[[0.11111111 0.75       0.13888889]\n",
      " [0.11111111 0.75       0.13888889]\n",
      " [0.11111111 0.75       0.13888889]]\n"
     ]
    }
   ],
   "source": [
    "print( np.linalg.matrix_power( weatherP, 5 ))\n",
    "print()\n",
    "print( np.linalg.matrix_power( weatherP, 10 ))\n",
    "print()\n",
    "print( np.linalg.matrix_power( weatherP, 20 ))"
   ]
  },
  {
   "cell_type": "markdown",
   "metadata": {},
   "source": [
    "To compute the stationary distribution $\\pi$ that solves $\\pi P = \\pi$ in Python we use the eigenvector decomposition of the matrix $P$. "
   ]
  },
  {
   "cell_type": "code",
   "execution_count": 7,
   "metadata": {},
   "outputs": [],
   "source": [
    "eigenvalues, eigenvector = scipy.linalg.eig(weatherP.T)"
   ]
  },
  {
   "cell_type": "code",
   "execution_count": 8,
   "metadata": {},
   "outputs": [
    {
     "name": "stdout",
     "output_type": "stream",
     "text": [
      "[1. +0.j 0.1+0.j 0.2+0.j]\n"
     ]
    }
   ],
   "source": [
    "print(eigenvalues)"
   ]
  },
  {
   "cell_type": "code",
   "execution_count": 9,
   "metadata": {},
   "outputs": [
    {
     "name": "stdout",
     "output_type": "stream",
     "text": [
      "[[-1.44149994e-01 -7.07106781e-01  1.79439138e-16]\n",
      " [-9.73012460e-01  2.16156920e-16 -7.07106781e-01]\n",
      " [-1.80187493e-01  7.07106781e-01  7.07106781e-01]]\n"
     ]
    }
   ],
   "source": [
    "print(eigenvector)"
   ]
  },
  {
   "cell_type": "markdown",
   "metadata": {},
   "source": [
    "Namely, $\\pi$ is the normalized first eigenvector of $P$. To normalize means to make sure that it is a probability vector, i.e. adds up to 1."
   ]
  },
  {
   "cell_type": "code",
   "execution_count": 10,
   "metadata": {},
   "outputs": [],
   "source": [
    "pi = eigenvector[:, 0]"
   ]
  },
  {
   "cell_type": "code",
   "execution_count": 11,
   "metadata": {},
   "outputs": [
    {
     "name": "stdout",
     "output_type": "stream",
     "text": [
      "[-0.14414999 -0.97301246 -0.18018749]\n"
     ]
    }
   ],
   "source": [
    "print(pi)"
   ]
  },
  {
   "cell_type": "code",
   "execution_count": 12,
   "metadata": {},
   "outputs": [
    {
     "data": {
      "text/plain": [
       "-1.297349946281605"
      ]
     },
     "execution_count": 12,
     "metadata": {},
     "output_type": "execute_result"
    }
   ],
   "source": [
    "np.sum(pi)"
   ]
  },
  {
   "cell_type": "code",
   "execution_count": 13,
   "metadata": {},
   "outputs": [
    {
     "data": {
      "text/plain": [
       "1.0"
      ]
     },
     "execution_count": 13,
     "metadata": {},
     "output_type": "execute_result"
    }
   ],
   "source": [
    "scipy.linalg.norm(pi, 2)"
   ]
  },
  {
   "cell_type": "code",
   "execution_count": 14,
   "metadata": {},
   "outputs": [],
   "source": [
    "newPi = eigenvector[:,0] / np.sum(pi)"
   ]
  },
  {
   "cell_type": "code",
   "execution_count": 15,
   "metadata": {},
   "outputs": [
    {
     "name": "stdout",
     "output_type": "stream",
     "text": [
      "[0.11111111 0.75       0.13888889]\n"
     ]
    }
   ],
   "source": [
    "print(newPi)"
   ]
  },
  {
   "cell_type": "code",
   "execution_count": 16,
   "metadata": {},
   "outputs": [
    {
     "data": {
      "text/plain": [
       "0.1111111111111111"
      ]
     },
     "execution_count": 16,
     "metadata": {},
     "output_type": "execute_result"
    }
   ],
   "source": [
    "4/36"
   ]
  },
  {
   "cell_type": "code",
   "execution_count": 17,
   "metadata": {},
   "outputs": [
    {
     "data": {
      "text/plain": [
       "0.75"
      ]
     },
     "execution_count": 17,
     "metadata": {},
     "output_type": "execute_result"
    }
   ],
   "source": [
    "27/36"
   ]
  },
  {
   "cell_type": "code",
   "execution_count": 18,
   "metadata": {},
   "outputs": [
    {
     "data": {
      "text/plain": [
       "0.1388888888888889"
      ]
     },
     "execution_count": 18,
     "metadata": {},
     "output_type": "execute_result"
    }
   ],
   "source": [
    "5/36"
   ]
  },
  {
   "cell_type": "markdown",
   "metadata": {},
   "source": [
    "So algebraically, $\\pi = [1/9 \\quad 3/4 \\quad 5/36]$, hence it is Sunny for 3/4 of all days in the long term."
   ]
  },
  {
   "cell_type": "markdown",
   "metadata": {},
   "source": [
    "### Long-term credit rating?\n",
    "\n",
    "We can repeat the same computations (which only take 2 lines) for the 7-state Credit Migration matrix P. Here is what we get:"
   ]
  },
  {
   "cell_type": "code",
   "execution_count": 19,
   "metadata": {},
   "outputs": [
    {
     "name": "stdout",
     "output_type": "stream",
     "text": [
      "[0. 0. 0. 0. 0. 0. 0. 1.]\n"
     ]
    }
   ],
   "source": [
    "eigenvalP, eigenvecP = scipy.linalg.eig(P.T)\n",
    "\n",
    "longtermCredit = eigenvecP[:,0] / np.sum(eigenvecP[:, 0])\n",
    "\n",
    "print(longtermCredit)"
   ]
  },
  {
   "cell_type": "markdown",
   "metadata": {},
   "source": [
    "So default is inevitable!"
   ]
  }
 ],
 "metadata": {
  "kernelspec": {
   "display_name": "Python 3",
   "language": "python",
   "name": "python3"
  },
  "language_info": {
   "codemirror_mode": {
    "name": "ipython",
    "version": 3
   },
   "file_extension": ".py",
   "mimetype": "text/x-python",
   "name": "python",
   "nbconvert_exporter": "python",
   "pygments_lexer": "ipython3",
   "version": "3.10.11"
  }
 },
 "nbformat": 4,
 "nbformat_minor": 2
}
